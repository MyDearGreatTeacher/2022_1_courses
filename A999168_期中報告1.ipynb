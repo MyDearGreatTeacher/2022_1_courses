{
  "nbformat": 4,
  "nbformat_minor": 0,
  "metadata": {
    "colab": {
      "name": "A999168_期中報告1.ipynb",
      "provenance": [],
      "authorship_tag": "ABX9TyMmt3NZV7qJLqGwryWbfXY7",
      "include_colab_link": true
    },
    "kernelspec": {
      "name": "python3",
      "display_name": "Python 3"
    },
    "language_info": {
      "name": "python"
    }
  },
  "cells": [
    {
      "cell_type": "markdown",
      "metadata": {
        "id": "view-in-github",
        "colab_type": "text"
      },
      "source": [
        "<a href=\"https://colab.research.google.com/github/MyDearGreatTeacher/2022_1_courses/blob/main/A999168_%E6%9C%9F%E4%B8%AD%E5%A0%B1%E5%91%8A1.ipynb\" target=\"_parent\"><img src=\"https://colab.research.google.com/assets/colab-badge.svg\" alt=\"Open In Colab\"/></a>"
      ]
    },
    {
      "cell_type": "markdown",
      "source": [
        "# pandas 資料匯入\n",
        "\n",
        "1_讀寫CSV檔案\n",
        "\n",
        "2_讀寫excel檔案 Reading and writing data in Excel format\n",
        "\n",
        "3_讀寫 JSON 檔案\n",
        "\n",
        "4_讀取網頁表格資料"
      ],
      "metadata": {
        "id": "Idc2KLj5obYn"
      }
    },
    {
      "cell_type": "markdown",
      "source": [
        "## 1_讀寫CSV檔案\n",
        "\n"
      ],
      "metadata": {
        "id": "jRZj1ewIozw_"
      }
    },
    {
      "cell_type": "code",
      "execution_count": null,
      "metadata": {
        "id": "kH5Z3SfzoWW2"
      },
      "outputs": [],
      "source": [
        ""
      ]
    }
  ]
}